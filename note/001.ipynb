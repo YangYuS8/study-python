{
 "cells": [
  {
   "metadata": {},
   "cell_type": "markdown",
   "source": [
    "源程序书写规范\n",
    "\n",
    "\n",
    "\n",
    "1、Python语句\n",
    "\n",
    "    通常一行书写一条语句\n",
    "\n",
    "    一行书写多条语句时，语句之间应使用分号分隔\n",
    "\n",
    "    语句过长建议换行书写，换行时可以使用反斜杠“\\”实现分行书写\n",
    "\n",
    "    写在括号中的语句如[ ]、{ }、( )，括号内换行被视为一行语句\n",
    "\n",
    "2、代码块与缩进\n",
    "\n",
    "    Python视相同缩进的相邻语句为一个代码块\n",
    "\n",
    "3、注释\n",
    "\n",
    "    单行注释以#开头           （注释切换快捷键：ctrl+/）\n",
    "\n",
    "    多行注释为三引号对"
   ],
   "id": "47c3629a91c50fbb"
  }
 ],
 "metadata": {
  "kernelspec": {
   "display_name": "Python 3",
   "language": "python",
   "name": "python3"
  },
  "language_info": {
   "codemirror_mode": {
    "name": "ipython",
    "version": 2
   },
   "file_extension": ".py",
   "mimetype": "text/x-python",
   "name": "python",
   "nbconvert_exporter": "python",
   "pygments_lexer": "ipython2",
   "version": "2.7.6"
  }
 },
 "nbformat": 4,
 "nbformat_minor": 5
}
